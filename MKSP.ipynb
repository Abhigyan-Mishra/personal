{
 "cells": [
  {
   "cell_type": "markdown",
   "metadata": {},
   "source": [
    "# UAV Routing Algorithm using Greedy Method"
   ]
  },
  {
   "cell_type": "markdown",
   "metadata": {},
   "source": [
    "## Initialization"
   ]
  },
  {
   "cell_type": "code",
   "execution_count": 32,
   "metadata": {},
   "outputs": [],
   "source": [
    "Tmax=80              #Total Time Limit\n",
    "Dmax=280             #Maximum Distance => Optimal_Distance+Deviation_Allowed\n",
    "t=[10,25,20,35,40]  #Time it takes to perform each task\n",
    "rew=[10,20,50,30,10] #Reward for each task\n",
    "totR=0              #Total Reward\n",
    "ST=[20,30,40,60,70] #Source to Task Distance\n",
    "TD=[60,40,30,30,10] #Task to Destination Distance\n",
    "TT=[[0,40,30,60,50],[40,0,30,40,60],[30,30,0,40,40],[60,40,40,0,10],[50,60,40,20,0]] #Inter Task Distance\n",
    "ta=[] #Choosen Tasks"
   ]
  },
  {
   "cell_type": "code",
   "execution_count": 33,
   "metadata": {},
   "outputs": [
    {
     "name": "stdout",
     "output_type": "stream",
     "text": [
      "0.5555555555555556\n",
      "Task: 2\n",
      "Remaining Time: 60\n",
      "Remaining Deviation: 210\n",
      "Reward: 50\n"
     ]
    }
   ],
   "source": [
    "#First Task Choice\n",
    "max=0\n",
    "for i in range(0,5):\n",
    "    if(t[i]<=Tmax&(ST[i]+TD[i])<=Dmax):\n",
    "      eff=rew[i]/(t[i]+ST[i]+TD[i])   #Efficiency\n",
    "      if(eff>max):\n",
    "        max=eff\n",
    "        s=i\n",
    "print(max)\n",
    "print(\"Task:\",s)\n",
    "print(\"Remaining Time:\",(Tmax-t[s]))\n",
    "Dtot=ST[s]+TD[s]\n",
    "print(\"Remaining Deviation:\",(Dmax-Dtot))\n",
    "totR=totR+rew[s]\n",
    "print(\"Reward:\",totR)\n",
    "Tmax=Tmax-t[s]\n",
    "Dmax=Dmax-(ST[i]+TD[i])\n",
    "ta.append(s)"
   ]
  },
  {
   "cell_type": "code",
   "execution_count": 34,
   "metadata": {},
   "outputs": [
    {
     "name": "stdout",
     "output_type": "stream",
     "text": [
      "3   35   70\n",
      "4   40   50\n",
      "0.08333333333333333\n",
      "4\n",
      "0.08333333333333333\n",
      "Task: 4\n",
      "Remaining Time: 20\n",
      "Remaining Deviation: 120\n",
      "Reward: 60\n"
     ]
    }
   ],
   "source": [
    "#Intermediate Task Selection\n",
    "max=0\n",
    "while(s!=-1):\n",
    "    row=s\n",
    "    rowTD=TT[row]\n",
    "    for col in range(s+1,5):\n",
    "       print(col,\" \",t[col],\" \",rowTD[col]+TD[col])\n",
    "       if(t[col]<=Tmax&(rowTD[col]+TD[col])<=Dmax):\n",
    "        eff=rew[col]/(t[col]+ST[col]+TD[col])\n",
    "        print(eff)\n",
    "        if(eff>max):\n",
    "          max=eff\n",
    "          s=col\n",
    "          print(s)\n",
    "    if(s>row):     \n",
    "      print(max)\n",
    "      print(\"Task:\",s)\n",
    "      print(\"Remaining Time:\",(Tmax-t[s]))\n",
    "      Dtot=ST[s]+TD[s]\n",
    "      print(\"Remaining Deviation:\",(Dmax-Dtot))\n",
    "      totR=totR+rew[s]\n",
    "      print(\"Reward:\",totR)\n",
    "      Tmax=Tmax-t[s]\n",
    "      Dmax=Dmax-(ST[i]+TD[i])\n",
    "      ta.append(s)\n",
    "    else:\n",
    "     s=-1"
   ]
  },
  {
   "cell_type": "code",
   "execution_count": 35,
   "metadata": {},
   "outputs": [
    {
     "name": "stdout",
     "output_type": "stream",
     "text": [
      "Total Reward 60\n",
      "Task Chossen [2, 4]\n",
      "Remaining Time 20\n",
      "Remaining Distance 120\n"
     ]
    }
   ],
   "source": [
    "print(\"Total Reward\",totR)\n",
    "print(\"Task Chossen\",ta)\n",
    "print(\"Remaining Time\",Tmax)\n",
    "print(\"Remaining Distance\",Dmax)"
   ]
  },
  {
   "cell_type": "code",
   "execution_count": null,
   "metadata": {},
   "outputs": [],
   "source": []
  },
  {
   "cell_type": "code",
   "execution_count": null,
   "metadata": {},
   "outputs": [],
   "source": []
  }
 ],
 "metadata": {
  "kernelspec": {
   "display_name": "Python 3",
   "language": "python",
   "name": "python3"
  },
  "language_info": {
   "codemirror_mode": {
    "name": "ipython",
    "version": 3
   },
   "file_extension": ".py",
   "mimetype": "text/x-python",
   "name": "python",
   "nbconvert_exporter": "python",
   "pygments_lexer": "ipython3",
   "version": "3.8.2"
  },
  "latex_envs": {
   "LaTeX_envs_menu_present": true,
   "autoclose": false,
   "autocomplete": true,
   "bibliofile": "biblio.bib",
   "cite_by": "apalike",
   "current_citInitial": 1,
   "eqLabelWithNumbers": true,
   "eqNumInitial": 1,
   "hotkeys": {
    "equation": "Ctrl-E",
    "itemize": "Ctrl-I"
   },
   "labels_anchors": false,
   "latex_user_defs": false,
   "report_style_numbering": false,
   "user_envs_cfg": false
  },
  "toc": {
   "base_numbering": 1,
   "nav_menu": {},
   "number_sections": true,
   "sideBar": true,
   "skip_h1_title": false,
   "title_cell": "Table of Contents",
   "title_sidebar": "Contents",
   "toc_cell": false,
   "toc_position": {},
   "toc_section_display": true,
   "toc_window_display": false
  }
 },
 "nbformat": 4,
 "nbformat_minor": 4
}
