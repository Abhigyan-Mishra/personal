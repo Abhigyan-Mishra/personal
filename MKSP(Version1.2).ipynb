{
 "cells": [
  {
   "cell_type": "markdown",
   "metadata": {},
   "source": [
    "# UAV Routing Algorithm using Greedy Method"
   ]
  },
  {
   "cell_type": "markdown",
   "metadata": {},
   "source": [
    "## Initialization"
   ]
  },
  {
   "cell_type": "code",
   "execution_count": 2,
   "metadata": {},
   "outputs": [],
   "source": [
    "def distance_finder(one,two) :\n",
    "    [x1,y1,z1] = one  # first coordinates\n",
    "    [x2,y2,z2] = two  # second coordinates\n",
    "\n",
    "    return (((x2-x1)**2)+((y2-y1)**2)+((z2-z1)**2))**(1/2)"
   ]
  },
  {
   "cell_type": "code",
   "execution_count": 8,
   "metadata": {},
   "outputs": [
    {
     "name": "stdout",
     "output_type": "stream",
     "text": [
      "Total Distance on optimal path: 52.82894923107541\n",
      "Total Deviation allowed from optimal path: 40\n",
      "Source to Task distance: [22.316137658654107, 14.334922392534953, 33.75470337597414]\n",
      "Task to Destination distance: [22.221836107756708, 44.305642981453275, 30.0]\n",
      "[[0.0, 27.814744291472465, 24.85578403510941], [27.814744291472465, 0.0, 27.147559743004525], [24.85578403510941, 27.147559743004525, 0.0]]\n"
     ]
    }
   ],
   "source": [
    "WP=[[12.5,11.2,13],[15.4,22,3.8],[42.1,33.3,28.9]]\n",
    "TC=[[32.5,21.1,13],[5.4,22,6.8],[22.1,43.3,8.9]]\n",
    "ST=[] #Source to Task Distance\n",
    "TD=[] #Task to Destination Distance\n",
    "TT=[] #Inter Task Distance\n",
    "TTi=[]\n",
    "dev=40\n",
    "TotalD=0\n",
    "for i in range(0,len(WP)-1):\n",
    "    TotalD+=distance_finder(WP[i],WP[i+1])\n",
    "print(\"Total Distance on optimal path:\",TotalD)\n",
    "print(\"Total Deviation allowed from optimal path:\",dev)\n",
    "for i in range(0,len(TC)):\n",
    "    dist=distance_finder(WP[0],TC[i])\n",
    "    ST.append(dist)\n",
    "print(\"Source to Task distance:\",ST)\n",
    "for i in range(0,len(TC)):\n",
    "    dist=distance_finder(TC[i],WP[len(WP)-1])\n",
    "    TD.append(dist)\n",
    "print(\"Task to Destination distance:\",TD)\n",
    "for i in range(0,len(TC)):\n",
    "    for j in range(0,len(TC)):\n",
    "        dist=distance_finder(TC[i],TC[j])\n",
    "        TTi.append(dist)\n",
    "    TT.append(TTi)\n",
    "    TTi=[]\n",
    "print(TT)\n"
   ]
  },
  {
   "cell_type": "code",
   "execution_count": 9,
   "metadata": {},
   "outputs": [],
   "source": [
    "Tmax=80              #Total Time Limit\n",
    "Dmax=TotalD+dev      #Maximum Distance => Optimal_Distance+Deviation_Allowed\n",
    "t=[10,25,20,35,40]   #Time it takes to perform each task\n",
    "rew=[10,20,50,30,10] #Reward for each task\n",
    "totR=0              #Total Reward\n",
    "ta=[] #Choosen Tasks"
   ]
  },
  {
   "cell_type": "code",
   "execution_count": 10,
   "metadata": {},
   "outputs": [
    {
     "name": "stdout",
     "output_type": "stream",
     "text": [
      "0   10   22.221836107756708\n",
      "0.18335848051177256\n",
      "0\n",
      "1   25   72.12038727292574\n",
      "0.23911842191133603\n",
      "1\n",
      "2   20   54.85578403510941\n",
      "0.5969813990690221\n",
      "2\n",
      "0.5969813990690221\n",
      "Task: 2\n",
      "Remaining Time: 60\n",
      "Remaining Deviation: 29.074245855101275\n",
      "Reward: 50\n"
     ]
    }
   ],
   "source": [
    "#First Task Choice\n",
    "max=0\n",
    "row=0\n",
    "rowTD=TT[row]\n",
    "for col in range(0,len(TC)):\n",
    "       print(col,\" \",t[col],\" \",rowTD[col]+TD[col])\n",
    "       if(t[col]<=Tmax and (rowTD[col]+TD[col])<=Dmax):\n",
    "        eff=rew[col]/(t[col]+ST[col]+TD[col])\n",
    "        print(eff)\n",
    "        if(eff>max):\n",
    "          max=eff\n",
    "          s=col\n",
    "          print(s)\n",
    "if(s>row):     \n",
    "      print(max)\n",
    "      print(\"Task:\",s)\n",
    "      print(\"Remaining Time:\",(Tmax-t[s]))\n",
    "      Dtot=ST[s]+TD[s]\n",
    "      print(\"Remaining Deviation:\",(Dmax-Dtot))\n",
    "      totR=totR+rew[s]\n",
    "      print(\"Reward:\",totR)\n",
    "      Tmax=Tmax-t[s]\n",
    "      Dmax=Dmax-(ST[s]+TD[s])\n",
    "      ta.append(s)"
   ]
  },
  {
   "cell_type": "code",
   "execution_count": 11,
   "metadata": {},
   "outputs": [],
   "source": [
    "#Intermediate Task Selection\n",
    "max=0\n",
    "while(s!=-1):\n",
    "    row=s\n",
    "    rowTD=TT[row]\n",
    "    for col in range(s+1,len(TC)):\n",
    "       print(col,\" \",t[col],\" \",rowTD[col]+TD[col])\n",
    "       if(t[col]<=Tmax and (rowTD[col]+TD[col])<=Dmax):\n",
    "         print(\"Hello\")\n",
    "         eff=rew[col]/(t[col]+ST[col]+TD[col])\n",
    "         print(eff)\n",
    "         if(eff>max):\n",
    "           max=eff\n",
    "           s=col\n",
    "           print(s)\n",
    "    if(s>row):     \n",
    "      print(max)\n",
    "      print(\"Task:\",s)\n",
    "      print(\"Remaining Time:\",(Tmax-t[s]))\n",
    "      Dtot=ST[s]+TD[s]\n",
    "      print(\"Remaining Deviation:\",(Dmax-Dtot))\n",
    "      totR=totR+rew[s]\n",
    "      print(\"Reward:\",totR)\n",
    "      Tmax=Tmax-t[s]\n",
    "      Dmax=Dmax-(ST[i]+TD[i])\n",
    "      ta.append(s)\n",
    "    else:\n",
    "     s=-1"
   ]
  },
  {
   "cell_type": "code",
   "execution_count": 12,
   "metadata": {},
   "outputs": [
    {
     "name": "stdout",
     "output_type": "stream",
     "text": [
      "Total Reward 50\n",
      "Task Chossen [2]\n",
      "Remaining Time 60\n",
      "Remaining Distance 29.074245855101275\n"
     ]
    }
   ],
   "source": [
    "print(\"Total Reward\",totR)\n",
    "print(\"Task Chossen\",ta)\n",
    "print(\"Remaining Time\",Tmax)\n",
    "print(\"Remaining Distance\",Dmax)"
   ]
  },
  {
   "cell_type": "code",
   "execution_count": null,
   "metadata": {},
   "outputs": [],
   "source": []
  },
  {
   "cell_type": "code",
   "execution_count": null,
   "metadata": {},
   "outputs": [],
   "source": []
  }
 ],
 "metadata": {
  "kernelspec": {
   "display_name": "Python 3",
   "language": "python",
   "name": "python3"
  },
  "language_info": {
   "codemirror_mode": {
    "name": "ipython",
    "version": 3
   },
   "file_extension": ".py",
   "mimetype": "text/x-python",
   "name": "python",
   "nbconvert_exporter": "python",
   "pygments_lexer": "ipython3",
   "version": "3.8.5"
  },
  "latex_envs": {
   "LaTeX_envs_menu_present": true,
   "autoclose": false,
   "autocomplete": true,
   "bibliofile": "biblio.bib",
   "cite_by": "apalike",
   "current_citInitial": 1,
   "eqLabelWithNumbers": true,
   "eqNumInitial": 1,
   "hotkeys": {
    "equation": "Ctrl-E",
    "itemize": "Ctrl-I"
   },
   "labels_anchors": false,
   "latex_user_defs": false,
   "report_style_numbering": false,
   "user_envs_cfg": false
  },
  "toc": {
   "base_numbering": 1,
   "nav_menu": {},
   "number_sections": true,
   "sideBar": true,
   "skip_h1_title": false,
   "title_cell": "Table of Contents",
   "title_sidebar": "Contents",
   "toc_cell": false,
   "toc_position": {},
   "toc_section_display": true,
   "toc_window_display": false
  }
 },
 "nbformat": 4,
 "nbformat_minor": 4
}
