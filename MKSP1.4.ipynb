{
 "cells": [
  {
   "cell_type": "markdown",
   "metadata": {},
   "source": [
    "# UAV Routing Algorithm using Greedy Method"
   ]
  },
  {
   "cell_type": "markdown",
   "metadata": {},
   "source": [
    "## Initialization"
   ]
  },
  {
   "cell_type": "code",
   "execution_count": 22,
   "metadata": {},
   "outputs": [
    {
     "name": "stdout",
     "output_type": "stream",
     "text": [
      "[2.0, 3.0, 4.0, 6.0, 7.0]\n",
      "[[0.0, 4.0, 3.0, 6.0, 5.0], [4.0, 0.0, 3.0, 4.0, 6.0], [3.0, 3.0, 0.0, 4.0, 4.0], [6.0, 4.0, 4.0, 0.0, 1.0], [5.0, 6.0, 4.0, 2.0, 0.0]]\n",
      "[6.0, 4.0, 3.0, 3.0, 1.0]\n"
     ]
    }
   ],
   "source": [
    "Tmax=80              #Total Time Limit\n",
    "Dmax=280           #Maximum Distance => Optimal_Distance+Deviation_Allowed\n",
    "t=[5,25,20,35,40]  #Time it takes to perform each task\n",
    "rew=[10,20,50,30,10] #Reward for each task\n",
    "totR=0              #Total Reward\n",
    "ST=[20,30,40,60,70] #Source to Task Distance\n",
    "TD=[60,40,30,30,10] #Task to Destination Distance\n",
    "TT=[[0,40,30,60,50],[40,0,30,40,60],[30,30,0,40,40],[60,40,40,0,10],[50,60,40,20,0]] #Inter Task Distance\n",
    "TimeST=[] #Time to reach from Source to Task\n",
    "TimeTT=[] #Time to reach from Task to Task\n",
    "TimeTD=[] #Time to reach from Task to Destination\n",
    "spd=10 #Constant Speed\n",
    "for i in range(0,len(t)):  #Calculating TimeST\n",
    "    temp=ST[i]/spd\n",
    "    TimeST.append(temp)\n",
    "for i in range(0,len(t)): #Calculating TimeTD\n",
    "    temp=TD[i]/spd\n",
    "    TimeTD.append(temp)\n",
    "for i in range(0,len(TT)):\n",
    "    temp=[]\n",
    "    for j in range(0,len(TT[i])):\n",
    "        temp1=TT[i][j]/spd\n",
    "        temp.append(temp1)\n",
    "    TimeTT.append(temp)\n",
    "ta=[] #Choosen Tasks"
   ]
  },
  {
   "cell_type": "code",
   "execution_count": 23,
   "metadata": {},
   "outputs": [
    {
     "name": "stdout",
     "output_type": "stream",
     "text": [
      "Task 0  Efficiency: 0.37037037037037035\n",
      "Task 1  Efficiency: 0.3448275862068966\n",
      "Task 2  Efficiency: 0.78125\n",
      "Task 3  Efficiency: 0.297029702970297\n",
      "Task 4  Efficiency: 0.08547008547008547\n",
      "Task Chossen:  2\n",
      "56.0\n"
     ]
    }
   ],
   "source": [
    "#First Task Choice\n",
    "max=0\n",
    "s=0\n",
    "for i in range(0,len(ST)):\n",
    "    if((ST[i]+TD[i])<=Dmax and t[i]<=Tmax):\n",
    "        eff=rew[i]/(ST[i]+t[i]+TimeST[i])\n",
    "    print(\"Task\",i,\" Efficiency:\",eff)\n",
    "    if(eff>max):\n",
    "        max=eff\n",
    "        s=i\n",
    "print(\"Task Chossen: \",s)\n",
    "ta.append(s)\n",
    "totR+=rew[s]\n",
    "Tmax=Tmax-(t[s]+TimeST[s])            \n",
    "Dmax=Dmax-ST[s]"
   ]
  },
  {
   "cell_type": "code",
   "execution_count": 24,
   "metadata": {},
   "outputs": [
    {
     "name": "stdout",
     "output_type": "stream",
     "text": [
      "Task : 3   0.379746835443038\n",
      "3\n",
      "Task : 4   0.11904761904761904\n",
      "0\n",
      "Task: 3\n",
      "Remaining Time: 17.0\n",
      "Remaining Deviation: 200\n",
      "Reward: 80\n"
     ]
    }
   ],
   "source": [
    "#Intermediate Task Selection\n",
    "max=0\n",
    "n=s\n",
    "while(s!=-1):\n",
    "    row=s\n",
    "    rowTD=TT[row]\n",
    "    rowTimeTD=TimeTT[row]\n",
    "    for col in range(s+1,len(ST)):\n",
    "       if((t[col]+rowTimeTD[col])<=Tmax and (rowTD[col]+TD[col])<=Dmax):\n",
    "        eff=rew[col]/(t[col]+rowTD[col]+rowTimeTD[col])\n",
    "        print(\"Task :\",col,\" \",eff)\n",
    "        if(eff>max):\n",
    "          max=eff\n",
    "          s=col\n",
    "          print(s)\n",
    "    max=0   \n",
    "    if(s>row and s<len(ST)):     \n",
    "      print(max)\n",
    "      print(\"Task:\",s)\n",
    "      print(\"Remaining Time:\",(Tmax-(t[s]+TimeTT[n][s])))\n",
    "      Dtot=TT[n][s]\n",
    "      print(\"Remaining Deviation:\",(Dmax-Dtot))\n",
    "      totR=totR+rew[s]\n",
    "      print(\"Reward:\",totR)\n",
    "      Tmax=Tmax-(t[s]+TimeTT[n][s])\n",
    "      Dmax=Dmax-Dtot\n",
    "      ta.append(s)\n",
    "      n=s\n",
    "    else:\n",
    "     s=-1\n",
    "Dmax=Dmax-TD[s-1]\n",
    "Tmax=Tmax-TimeTD[s-1]"
   ]
  },
  {
   "cell_type": "code",
   "execution_count": 25,
   "metadata": {},
   "outputs": [
    {
     "name": "stdout",
     "output_type": "stream",
     "text": [
      "Total Reward 80\n",
      "Task Chossen [2, 3]\n",
      "Remaining Time 14.0\n",
      "Remaining Distance 170\n"
     ]
    }
   ],
   "source": [
    "print(\"Total Reward\",totR)\n",
    "print(\"Task Chossen\",ta)\n",
    "print(\"Remaining Time\",Tmax)\n",
    "print(\"Remaining Distance\",Dmax)"
   ]
  },
  {
   "cell_type": "code",
   "execution_count": null,
   "metadata": {},
   "outputs": [],
   "source": []
  },
  {
   "cell_type": "code",
   "execution_count": null,
   "metadata": {},
   "outputs": [],
   "source": []
  },
  {
   "cell_type": "code",
   "execution_count": null,
   "metadata": {},
   "outputs": [],
   "source": []
  }
 ],
 "metadata": {
  "kernelspec": {
   "display_name": "Python 3",
   "language": "python",
   "name": "python3"
  },
  "language_info": {
   "codemirror_mode": {
    "name": "ipython",
    "version": 3
   },
   "file_extension": ".py",
   "mimetype": "text/x-python",
   "name": "python",
   "nbconvert_exporter": "python",
   "pygments_lexer": "ipython3",
   "version": "3.8.5"
  },
  "latex_envs": {
   "LaTeX_envs_menu_present": true,
   "autoclose": false,
   "autocomplete": true,
   "bibliofile": "biblio.bib",
   "cite_by": "apalike",
   "current_citInitial": 1,
   "eqLabelWithNumbers": true,
   "eqNumInitial": 1,
   "hotkeys": {
    "equation": "Ctrl-E",
    "itemize": "Ctrl-I"
   },
   "labels_anchors": false,
   "latex_user_defs": false,
   "report_style_numbering": false,
   "user_envs_cfg": false
  },
  "toc": {
   "base_numbering": 1,
   "nav_menu": {},
   "number_sections": true,
   "sideBar": true,
   "skip_h1_title": false,
   "title_cell": "Table of Contents",
   "title_sidebar": "Contents",
   "toc_cell": false,
   "toc_position": {},
   "toc_section_display": true,
   "toc_window_display": false
  }
 },
 "nbformat": 4,
 "nbformat_minor": 4
}
