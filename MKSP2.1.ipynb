{
 "cells": [
  {
   "cell_type": "markdown",
   "metadata": {},
   "source": [
    "# UAV Routing Algorithm using Greedy Method"
   ]
  },
  {
   "cell_type": "markdown",
   "metadata": {},
   "source": [
    "## Initialization"
   ]
  },
  {
   "cell_type": "code",
   "execution_count": 37,
   "metadata": {},
   "outputs": [],
   "source": [
    "def distance_finder(one,two) :\n",
    "    [x1,y1,z1] = one  # first coordinates\n",
    "    [x2,y2,z2] = two  # second coordinates\n",
    "\n",
    "    return (((x2-x1)**2)+((y2-y1)**2)+((z2-z1)**2))**(1/2)"
   ]
  },
  {
   "cell_type": "code",
   "execution_count": 38,
   "metadata": {},
   "outputs": [
    {
     "name": "stdout",
     "output_type": "stream",
     "text": [
      "Total Distance on optimal path: 1427.7624657408041\n",
      "Total Deviation allowed from optimal path: 1000\n",
      "Source to Task distance: [170.73918763545416, 170.73918763545416, 473.33508354015146, 710.4970182915251]\n",
      "Task to Destination distance: [687.2378744957567, 687.2378744957567, 341.9606132761678, 180.6783410511672]\n",
      "Distance Between Tasks: [[0.0, 0.0, 350.121526698492, 610.9421517993891], [0.0, 0.0, 350.121526698492, 610.9421517993891], [350.121526698492, 350.121526698492, 0.0, 268.33454222121014], [610.9421517993891, 610.9421517993891, 268.33454222121014, 0.0]]\n"
     ]
    }
   ],
   "source": [
    "S=[10.0,162.5 ,0]\n",
    "D=[825, 162.5,0]\n",
    "WP=[[806.111560609635, 4.106721663780105 ,0],[192.8661383668275, 62.79164461009175,0]]\n",
    "TC=[[145.63249941899963, 266.2096682849284,0],[ 284.03108864362605, 93.17427743482044,0],[483.21106765506096, 173.33451700443922,0],  [ 707.1695399240159, 25.53049389267769,0 ]]\n",
    "ST=[] #Source to Task Distance\n",
    "TD=[] #Task to Destination Distance\n",
    "TT=[] #Inter Task Distance\n",
    "TTi=[]\n",
    "dev=1000\n",
    "TotalD=0\n",
    "TotalD+=distance_finder(S,WP[0])\n",
    "for i in range(0,len(WP)-1):\n",
    "    TotalD+=distance_finder(WP[i],WP[i+1])\n",
    "#TotalD+=distance_finder(WP[len(W)-1],D)\n",
    "print(\"Total Distance on optimal path:\",TotalD)\n",
    "print(\"Total Deviation allowed from optimal path:\",dev)\n",
    "for i in range(0,len(TC)):\n",
    "    dist=distance_finder(S,TC[i])\n",
    "    ST.append(dist)\n",
    "print(\"Source to Task distance:\",ST)\n",
    "for i in range(0,len(TC)):\n",
    "    dist=distance_finder(TC[i],D)\n",
    "    TD.append(dist)\n",
    "print(\"Task to Destination distance:\",TD)\n",
    "for i in range(0,len(TC)):\n",
    "    for j in range(0,len(TC)):\n",
    "        dist=distance_finder(TC[i],TC[j])\n",
    "        TTi.append(dist)\n",
    "    TT.append(TTi)\n",
    "    TTi=[]\n",
    "print(\"Distance Between Tasks:\",TT)\n"
   ]
  },
  {
   "cell_type": "code",
   "execution_count": 43,
   "metadata": {},
   "outputs": [
    {
     "name": "stdout",
     "output_type": "stream",
     "text": [
      "2427.762465740804\n"
     ]
    }
   ],
   "source": [
    "Tmax=20              #Total Time Limit\n",
    "Dmax=TotalD+dev      #Maximum Distance => Optimal_Distance+Deviation_Allowed\n",
    "t=[5, 7, 6, 3]   #Time it takes to perform each task\n",
    "rew=[2, 7, 1, 8] #Reward for each task\n",
    "totR=0              #Total Reward\n",
    "ta=[]               #Choosen Tasks\n",
    "#First Choice\n",
    "print(Dmax)"
   ]
  },
  {
   "cell_type": "code",
   "execution_count": 40,
   "metadata": {},
   "outputs": [],
   "source": [
    "#First Choice\n",
    "ta.append(0)\n",
    "Tmax=Tmax-t[0]\n",
    "Dmax=Dmax-ST[0]\n",
    "s=0"
   ]
  },
  {
   "cell_type": "code",
   "execution_count": 10,
   "metadata": {},
   "outputs": [
    {
     "name": "stdout",
     "output_type": "stream",
     "text": [
      "0   10   22.221836107756708\n",
      "0.18335848051177256\n",
      "0\n",
      "1   25   72.12038727292574\n",
      "0.23911842191133603\n",
      "1\n",
      "2   20   54.85578403510941\n",
      "0.5969813990690221\n",
      "2\n",
      "0.5969813990690221\n",
      "Task: 2\n",
      "Remaining Time: 60\n",
      "Remaining Deviation: 29.074245855101275\n",
      "Reward: 50\n"
     ]
    }
   ],
   "source": [
    "#First Task Choice\n",
    "max=0\n",
    "row=0\n",
    "rowTD=TT[row]\n",
    "for col in range(0,len(TC)):\n",
    "       print(col,\" \",t[col],\" \",rowTD[col]+TD[col])\n",
    "       if(t[col]<=Tmax and (rowTD[col]+TD[col])<=Dmax):\n",
    "        eff=rew[col]/(t[col]+ST[col]+TD[col])\n",
    "        print(eff)\n",
    "        if(eff>max):\n",
    "          max=eff\n",
    "          s=col\n",
    "          print(s)\n",
    "if(s>row):     \n",
    "      print(max)\n",
    "      print(\"Task:\",s)\n",
    "      print(\"Remaining Time:\",(Tmax-t[s]))\n",
    "      Dtot=ST[s]+TD[s]\n",
    "      print(\"Remaining Deviation:\",(Dmax-Dtot))\n",
    "      totR=totR+rew[s]\n",
    "      print(\"Reward:\",totR)\n",
    "      Tmax=Tmax-t[s]\n",
    "      Dmax=Dmax-(ST[s]+TD[s])\n",
    "      ta.append(s)"
   ]
  },
  {
   "cell_type": "code",
   "execution_count": 11,
   "metadata": {},
   "outputs": [],
   "source": [
    "#Intermediate Task Selection\n",
    "max=0\n",
    "while(s!=-1):\n",
    "    row=s\n",
    "    rowTD=TT[row]\n",
    "    for col in range(s+1,len(TC)):\n",
    "       print(col,\" \",t[col],\" \",rowTD[col]+TD[col])\n",
    "       if(t[col]<=Tmax and (rowTD[col]+TD[col])<=Dmax):\n",
    "         print(\"Hello\")\n",
    "         eff=rew[col]/(t[col]+ST[col]+TD[col])\n",
    "         print(eff)\n",
    "         if(eff>max):\n",
    "           max=eff\n",
    "           s=col\n",
    "           print(s)\n",
    "    if(s>row):     \n",
    "      print(max)\n",
    "      print(\"Task:\",s)\n",
    "      print(\"Remaining Time:\",(Tmax-t[s]))\n",
    "      Dtot=ST[s]+TD[s]\n",
    "      print(\"Remaining Deviation:\",(Dmax-Dtot))\n",
    "      totR=totR+rew[s]\n",
    "      print(\"Reward:\",totR)\n",
    "      Tmax=Tmax-t[s]\n",
    "      Dmax=Dmax-(ST[i]+TD[i])\n",
    "      ta.append(s)\n",
    "    else:\n",
    "     s=-1"
   ]
  },
  {
   "cell_type": "code",
   "execution_count": 41,
   "metadata": {},
   "outputs": [
    {
     "name": "stdout",
     "output_type": "stream",
     "text": [
      "1   7   0.0\n",
      "0.010082999296292045\n",
      "1\n",
      "2   6   350.121526698492\n",
      "0.0014324961816618023\n",
      "3   3   610.9421517993891\n",
      "0.01006769907393334\n",
      "0\n",
      "Task: 1\n",
      "Remaining Time: 8\n",
      "Remaining Deviation: 2257.02327810535\n",
      "Reward: 7\n",
      "2   6   350.121526698492\n",
      "0.0014324961816618023\n",
      "2\n",
      "3   3   610.9421517993891\n",
      "0.01006769907393334\n",
      "3\n",
      "0\n",
      "Task: 3\n",
      "Remaining Time: 5\n",
      "Remaining Deviation: 1646.0811263059609\n",
      "Reward: 15\n"
     ]
    }
   ],
   "source": [
    "max=0\n",
    "n=s\n",
    "while(s!=-1):\n",
    "    row=s\n",
    "    rowTD=TT[row]\n",
    "    for col in range(s+1,len(TC)):\n",
    "       print(col,\" \",t[col],\" \",rowTD[col])\n",
    "       if(t[col]<=Tmax and (rowTD[col])<=Dmax):\n",
    "        eff=rew[col]/(t[col]+rowTD[col]+TD[col])\n",
    "        print(eff)\n",
    "        if(eff>max):\n",
    "          max=eff\n",
    "          s=col\n",
    "          print(s)\n",
    "    max=0   \n",
    "    if(s>row):     \n",
    "      print(max)\n",
    "      print(\"Task:\",s)\n",
    "      print(\"Remaining Time:\",(Tmax-t[s]))\n",
    "      Dtot=TT[n][s]\n",
    "      print(\"Remaining Deviation:\",(Dmax-Dtot))\n",
    "      totR=totR+rew[s]\n",
    "      print(\"Reward:\",totR)\n",
    "      Tmax=Tmax-t[s]\n",
    "      Dmax=Dmax-Dtot\n",
    "      ta.append(s)\n",
    "      n=s\n",
    "    else:\n",
    "     s=-1\n",
    "Dmax=Dmax-TD[s-1]"
   ]
  },
  {
   "cell_type": "code",
   "execution_count": 42,
   "metadata": {},
   "outputs": [
    {
     "name": "stdout",
     "output_type": "stream",
     "text": [
      "Total Reward 15\n",
      "Task Chossen [0, 1, 3]\n",
      "Remaining Time 5\n",
      "Remaining Distance 1304.120513029793\n"
     ]
    }
   ],
   "source": [
    "print(\"Total Reward\",totR)\n",
    "print(\"Task Chossen\",ta)\n",
    "print(\"Remaining Time\",Tmax)\n",
    "print(\"Remaining Distance\",Dmax)"
   ]
  },
  {
   "cell_type": "code",
   "execution_count": null,
   "metadata": {},
   "outputs": [],
   "source": []
  },
  {
   "cell_type": "code",
   "execution_count": null,
   "metadata": {},
   "outputs": [],
   "source": []
  }
 ],
 "metadata": {
  "kernelspec": {
   "display_name": "Python 3",
   "language": "python",
   "name": "python3"
  },
  "language_info": {
   "codemirror_mode": {
    "name": "ipython",
    "version": 3
   },
   "file_extension": ".py",
   "mimetype": "text/x-python",
   "name": "python",
   "nbconvert_exporter": "python",
   "pygments_lexer": "ipython3",
   "version": "3.8.5"
  },
  "latex_envs": {
   "LaTeX_envs_menu_present": true,
   "autoclose": false,
   "autocomplete": true,
   "bibliofile": "biblio.bib",
   "cite_by": "apalike",
   "current_citInitial": 1,
   "eqLabelWithNumbers": true,
   "eqNumInitial": 1,
   "hotkeys": {
    "equation": "Ctrl-E",
    "itemize": "Ctrl-I"
   },
   "labels_anchors": false,
   "latex_user_defs": false,
   "report_style_numbering": false,
   "user_envs_cfg": false
  },
  "toc": {
   "base_numbering": 1,
   "nav_menu": {},
   "number_sections": true,
   "sideBar": true,
   "skip_h1_title": false,
   "title_cell": "Table of Contents",
   "title_sidebar": "Contents",
   "toc_cell": false,
   "toc_position": {},
   "toc_section_display": true,
   "toc_window_display": false
  }
 },
 "nbformat": 4,
 "nbformat_minor": 4
}
